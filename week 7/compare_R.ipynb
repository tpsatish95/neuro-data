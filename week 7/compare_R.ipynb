{
 "cells": [
  {
   "cell_type": "code",
   "execution_count": 10,
   "metadata": {},
   "outputs": [],
   "source": [
    "%matplotlib inline\n",
    "import numpy as np\n",
    "import matplotlib.pyplot as plt\n",
    "from mgcpy.independence_tests.mgc.mgc import MGC"
   ]
  },
  {
   "cell_type": "code",
   "execution_count": 11,
   "metadata": {},
   "outputs": [
    {
     "name": "stdout",
     "output_type": "stream",
     "text": [
      "(50, 1)\n",
      "(50, 1)\n"
     ]
    }
   ],
   "source": [
    "'''\n",
    "Linear data. Generated using, simulations from R MGC.\n",
    "data = mgc.sims.spiral(50, 1, 0.1) # (samples, features, noise)\n",
    "'''\n",
    "X = np.array([-0.51912931, -0.24699695, -0.27129802,  0.08988214, -0.93133797, -0.96727363,  0.28306118,  0.92460929,  0.44272519,  0.33997158,  0.07680145,  0.49784049, -0.83435064, -0.95344318,  0.18082179,  0.56857578,  0.11608616,  0.64271549, -0.66037328, -0.44755648, -0.54511420,  0.86948706,  0.67568800, -0.33662677,  0.66859276, -0.66739094, -0.58791119, -0.46675664, -0.91455421,  0.09667132, -0.77858571, -0.42093049, -0.84167713,  0.52854907, -0.47128527, -0.09418058,  0.80176046,  0.31252840, -0.31872562, -0.54070292, -0.94153721, -0.86128020, -0.80080271, -0.05168897,  0.44781059,  0.45950319,  0.20463332,  0.55464372,  0.93062876,  0.80908862]).reshape(-1, 1)\n",
    "Y = np.array([-0.39896448, -0.19591009, -0.14459404,  0.07341945, -0.83465098, -1.03312750,  0.17985988,  0.84980555,  0.52840996,  0.26309697,  0.05037735,  0.49614189, -0.81993808, -0.79206330,  0.13625602,  0.58084302,  0.07114134,  0.51828978, -0.61492621, -0.60282539, -0.40258272,  0.93494555,  0.69088195, -0.46674890,  0.67400056, -0.63810416, -0.50916804, -0.47341975, -0.87257035, -0.02095436, -0.85325834, -0.52114691, -0.87077426,  0.48017861, -0.35084970, -0.13109888,  0.67058056,  0.31713241, -0.68035453, -0.47372769, -0.79708787, -0.66887376, -0.83039591,  0.09555898,  0.33861048,  0.48388096,  0.32049636,  0.54457146,  0.97025822,  0.76087465]).reshape(-1, 1)\n",
    "\n",
    "print(X.shape)\n",
    "print(Y.shape)"
   ]
  },
  {
   "cell_type": "code",
   "execution_count": 12,
   "metadata": {},
   "outputs": [
    {
     "data": {
      "image/png": "[encoded data removed]",
      "text/plain": [
       "<Figure size 432x288 with 1 Axes>"
      ]
     },
     "metadata": {
      "needs_background": "light"
     },
     "output_type": "display_data"
    }
   ],
   "source": [
    "plt.scatter(X, Y)\n",
    "plt.show()"
   ]
  },
  {
   "cell_type": "code",
   "execution_count": 13,
   "metadata": {},
   "outputs": [],
   "source": [
    "'''\n",
    "Results from R:\n",
    "> result = mgc.sample(data$X, data$Y)\n",
    "> result$statMGC\n",
    "[1] 0.9674665\n",
    "> result$optimalScale\n",
    "$x\n",
    "[1] 50\n",
    "$y\n",
    "[1] 50\n",
    "'''\n",
    "mgc_statistic = 0.9674665\n",
    "optimal_scale = [50, 50]"
   ]
  },
  {
   "cell_type": "code",
   "execution_count": 14,
   "metadata": {},
   "outputs": [
    {
     "name": "stdout",
     "output_type": "stream",
     "text": [
      "MGC stats from Python:\n",
      "mgc_test_statistic: 0.9674665210658532\n",
      "optimal_scale: [50, 50]\n"
     ]
    }
   ],
   "source": [
    "mgc = MGC(X, Y, None)\n",
    "mgc_statistic_actual, independence_test_metadata = mgc.test_statistic()\n",
    "\n",
    "print(\"MGC stats from Python:\")\n",
    "print(\"mgc_test_statistic:\", mgc_statistic_actual)\n",
    "print(\"optimal_scale:\", independence_test_metadata[\"optimal_scale\"])\n",
    "\n",
    "assert np.allclose(mgc_statistic, mgc_statistic_actual)\n",
    "assert np.allclose(optimal_scale, independence_test_metadata[\"optimal_scale\"])"
   ]
  },
  {
   "cell_type": "code",
   "execution_count": 15,
   "metadata": {},
   "outputs": [
    {
     "name": "stdout",
     "output_type": "stream",
     "text": [
      "(50, 1)\n",
      "(50, 1)\n"
     ]
    }
   ],
   "source": [
    "'''\n",
    "Non-linear (spiral data). Generated using, simulations from R MGC\n",
    "data = mgc.sims.spiral(50, 1, 0.1) # (samples, features, noise)\n",
    "'''\n",
    "X = np.array([0.01421334, -2.74656298,  0.77314408,  1.16537193, -2.90519144, -4.22264528, -0.89891050,  3.84718386, -1.56702656,  0.96299667, -4.04908889,  1.23211283,  0.16186615, -2.80339400, -4.52963579,  1.50649684, -2.19419173, -0.17158617, -4.99565629,  4.00691706, -2.84808717,  2.21568866, -0.42059251, -2.72486898,  1.93019558,  0.17617120,  3.81677009, -0.22529392,  1.26280821,  3.86391161,  2.02327480,  1.99630927,  1.82478940, -4.44260943, -0.98931338, -2.94800338, -3.01352134, -2.25180778, -0.92833990, -0.76114888, -0.62939441, -0.98264787, -3.82053926,  1.04258668, -2.15039133, -1.03893152,  1.93208834,  1.82361258,  0.99874067,  0.24155370]).reshape(-1, 1)\n",
    "Y = np.array([0.038971270,  0.833857761, -1.521444608,  4.304165019, -1.020602336,  2.312007878,  0.155703456,  1.380484921,  4.254963435, -1.278597445,  2.701115622,  2.021871587,  0.456433211,  0.829949638,  1.885978521, -0.945712267, -2.407083726, -3.454198852, -0.014086007,  0.145404797,  0.670799013,  3.672285741,  0.602226433,  3.785518506, -0.350152540, -1.588788123,  1.520267990, -1.409208061, -1.398139886,  1.131541762,  0.356061760,  0.002080002,  1.017373457,  2.080078016, -0.042361065, -0.973710472, -0.228119833,  1.550782393,  0.203302174, -3.383666925,  0.576408069,  0.209023397,  2.955761299, -1.346304143,  4.215744704, -0.540418117,  0.931602249, -0.445806493,  2.179037240, -1.662197212]).reshape(-1, 1)\n",
    "\n",
    "# X = np.array([-1.94991422,  2.01793503,  2.02135856, -4.76973254, -1.04045136,  3.62213298,  2.02344143, -0.22133186,  3.98299539,  0.66580652, -0.24892631,  2.01964689, -2.97581697,  2.82926344, -2.50334141, -2.11630230,  3.18571181,  3.91006534, -0.22079471,  0.16869683, -1.04671684, -2.54328145,  0.68913210, -4.15471419,  1.79381544,  3.79174064,  2.68077651, -0.89844733, -0.93375334, -4.87132871,  3.89156021,  0.98022341,  0.17447712, -2.61819021,  0.17833797,  3.99576158,  0.52171377, -2.77714987, -0.54302444, -1.56384122,  1.09424681, -0.39163951, -3.65442216,  3.15281371,  0.15473363,  2.01153606, -1.02473795,  3.00558863,  1.50315554, -0.05125508]).reshape(-1, 1)\n",
    "# Y = np.array([-2.6017111,  0.5691600,  0.2136069,  1.1416266, -0.1335919,  2.0291697,  0.1815304,  0.3729499, -0.1515422,  2.3587602,  4.4952152,  0.1235281,  0.1723651, -2.5462003, -2.1091046, -2.2855511,  2.6731396,  1.1488033, -3.5944704,  2.3914336, -0.3166776, -1.9556538, -3.7036444,  2.4278484,  1.2072623,  1.5497797, -2.7300803,  0.2535017,  0.2489763,  0.8197172, -0.6682824, -1.3701825,  0.5100829,  1.1830588,  0.2070552,  0.6000385,  4.4385086,  0.8184786,  0.4215651, -2.9205822,  2.1344058, -1.3949349,  2.9661085, -2.0557557,  0.3908240,  0.6770227, -0.6539511,  3.0709319,  1.7056418,  0.4568098]).reshape(-1, 1)\n",
    "\n",
    "print(X.shape)\n",
    "print(Y.shape)"
   ]
  },
  {
   "cell_type": "code",
   "execution_count": 16,
   "metadata": {},
   "outputs": [
    {
     "data": {
      "image/png": "[encoded data removed]",
      "text/plain": [
       "<Figure size 432x288 with 1 Axes>"
      ]
     },
     "metadata": {
      "needs_background": "light"
     },
     "output_type": "display_data"
    }
   ],
   "source": [
    "plt.scatter(X, Y)\n",
    "plt.show()"
   ]
  },
  {
   "cell_type": "code",
   "execution_count": 17,
   "metadata": {},
   "outputs": [],
   "source": [
    "'''\n",
    "Results from R:\n",
    "> result = mgc.sample(data$X, data$Y)\n",
    "> result$statMGC\n",
    "[1] 0.1935397\n",
    "> result$optimalScale\n",
    "$x\n",
    "[1] 2\n",
    "$y\n",
    "[1] 7\n",
    "'''\n",
    "mgc_statistic = 0.2313806\n",
    "optimal_scale = [3, 4]"
   ]
  },
  {
   "cell_type": "code",
   "execution_count": 18,
   "metadata": {},
   "outputs": [
    {
     "name": "stdout",
     "output_type": "stream",
     "text": [
      "MGC stats from Python:\n",
      "mgc_test_statistic: 0.2313806464792403\n",
      "optimal_scale: [3, 4]\n"
     ]
    }
   ],
   "source": [
    "mgc = MGC(X, Y, None)\n",
    "mgc_statistic_actual, independence_test_metadata = mgc.test_statistic()\n",
    "\n",
    "print(\"MGC stats from Python:\")\n",
    "print(\"mgc_test_statistic:\", mgc_statistic_actual)\n",
    "print(\"optimal_scale:\", independence_test_metadata[\"optimal_scale\"])\n",
    "\n",
    "assert np.allclose(mgc_statistic, mgc_statistic_actual)\n",
    "assert np.allclose(optimal_scale, independence_test_metadata[\"optimal_scale\"])"
   ]
  },
  {
   "cell_type": "code",
   "execution_count": null,
   "metadata": {},
   "outputs": [],
   "source": []
  }
 ],
 "metadata": {
  "kernelspec": {
   "display_name": "Python 3",
   "language": "python",
   "name": "python3"
  },
  "language_info": {
   "codemirror_mode": {
    "name": "ipython",
    "version": 3
   },
   "file_extension": ".py",
   "mimetype": "text/x-python",
   "name": "python",
   "nbconvert_exporter": "python",
   "pygments_lexer": "ipython3",
   "version": "3.6.5"
  }
 },
 "nbformat": 4,
 "nbformat_minor": 2
}
